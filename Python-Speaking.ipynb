{
 "cells": [
  {
   "cell_type": "code",
   "execution_count": 1,
   "id": "fd178f15",
   "metadata": {},
   "outputs": [],
   "source": [
    "import pyttsx3\n",
    "\n",
    "def speak(text):\n",
    "    engine=pyttsx3.init()\n",
    "    voices=engine.getProperty('voices')\n",
    "    engine.setProperty('voice',voices[1].id)\n",
    "    rate = engine.getProperty('rate')\n",
    "    engine.setProperty('rate', rate-100)\n",
    "    engine.say(text)\n",
    "    engine.runAndWait()  \n",
    "\n",
    "if __name__ == \"__main__\":\n",
    "    while True:\n",
    "        speak(\"Hello joe \" )\n",
    "        break"
   ]
  },
  {
   "cell_type": "code",
   "execution_count": null,
   "id": "cdf99dc5",
   "metadata": {},
   "outputs": [],
   "source": []
  }
 ],
 "metadata": {
  "kernelspec": {
   "display_name": "Python 3 (ipykernel)",
   "language": "python",
   "name": "python3"
  },
  "language_info": {
   "codemirror_mode": {
    "name": "ipython",
    "version": 3
   },
   "file_extension": ".py",
   "mimetype": "text/x-python",
   "name": "python",
   "nbconvert_exporter": "python",
   "pygments_lexer": "ipython3",
   "version": "3.10.9"
  }
 },
 "nbformat": 4,
 "nbformat_minor": 5
}
