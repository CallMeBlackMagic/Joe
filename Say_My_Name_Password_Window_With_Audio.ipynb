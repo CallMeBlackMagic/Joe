{
 "cells": [
  {
   "cell_type": "code",
   "execution_count": 1,
   "id": "9fc99b7c",
   "metadata": {},
   "outputs": [],
   "source": [
    "from IPython.display import clear_output\n",
    "from getpass import getpass\n",
    "import simpleaudio as sa"
   ]
  },
  {
   "cell_type": "code",
   "execution_count": 2,
   "id": "12c4cf23",
   "metadata": {},
   "outputs": [],
   "source": [
    "say_my_name_audio_path_wav = 'say-my-name.wav'\n",
    "you_are_god_damn_right_audio_path_wav = 'youre-god-damn-right.wav'"
   ]
  },
  {
   "cell_type": "code",
   "execution_count": 3,
   "id": "88594ea5",
   "metadata": {},
   "outputs": [
    {
     "name": "stdout",
     "output_type": "stream",
     "text": [
      "You're God Damn Right\n"
     ]
    }
   ],
   "source": [
    "name = ''\n",
    "x = 0\n",
    "while name.lower() != 'heisenberg':\n",
    "    clear_output(wait=True)\n",
    "    wave_obj = sa.WaveObject.from_wave_file(say_my_name_audio_path_wav)\n",
    "    play_obj = wave_obj.play()\n",
    "    play_obj.wait_done()\n",
    "    name = getpass(\"Say My Name \\nMe:\")\n",
    "    clear_output(wait=True)\n",
    "    x+=1\n",
    "    if x == 3:\n",
    "        print(\"⚠️ WARNING:You have tried 3 times, You have 2 other times remaining before bieng loged out!⚠️\")\n",
    "    if x > 5:\n",
    "        print(\"⚠️You Have been loged out!⚠️\")\n",
    "        break\n",
    "else:\n",
    "    print(\"You're God Damn Right\")\n",
    "    wave_obj = sa.WaveObject.from_wave_file(you_are_god_damn_right_audio_path_wav)\n",
    "    play_obj = wave_obj.play()\n",
    "    play_obj.wait_done()"
   ]
  },
  {
   "cell_type": "markdown",
   "id": "bf33e60a",
   "metadata": {},
   "source": [
    "## GUI VERSION"
   ]
  },
  {
   "cell_type": "code",
   "execution_count": 7,
   "id": "d72611ad",
   "metadata": {},
   "outputs": [
    {
     "name": "stderr",
     "output_type": "stream",
     "text": [
      "Exception in Tkinter callback\n",
      "Traceback (most recent call last):\n",
      "  File \"F:\\16-Anaconda_Navigator\\01-Anaconda_Data_and_EXE_Program\\lib\\tkinter\\__init__.py\", line 1921, in __call__\n",
      "    return self.func(*args)\n",
      "  File \"C:\\Users\\STW\\AppData\\Local\\Temp\\ipykernel_8972\\2621168703.py\", line 36, in validate_login\n",
      "    tk.messagebox.showerror('Error', 'Invalid username')\n",
      "AttributeError: module 'tkinter' has no attribute 'messagebox'\n",
      "Exception in Tkinter callback\n",
      "Traceback (most recent call last):\n",
      "  File \"F:\\16-Anaconda_Navigator\\01-Anaconda_Data_and_EXE_Program\\lib\\tkinter\\__init__.py\", line 1921, in __call__\n",
      "    return self.func(*args)\n",
      "  File \"C:\\Users\\STW\\AppData\\Local\\Temp\\ipykernel_8972\\2621168703.py\", line 41, in validate_login\n",
      "    tk.messagebox.showinfo('Success', 'Login successful')\n",
      "AttributeError: module 'tkinter' has no attribute 'messagebox'\n"
     ]
    }
   ],
   "source": [
    "import tkinter as tk\n",
    "import simpleaudio as sa\n",
    "from getpass import getpass\n",
    "\n",
    "# Audio paths\n",
    "say_my_name_audio_path_wav = 'say-my-name.wav'\n",
    "you_are_god_damn_right_audio_path_wav = 'youre-god-damn-right.wav'\n",
    "\n",
    "# GUI window\n",
    "window = tk.Tk()\n",
    "window.title('Login')\n",
    "window.geometry('400x200')\n",
    "\n",
    "# Text label and entry field for username\n",
    "tk.Label(window, text='Enter username:').grid(row=0, column=0)\n",
    "username_entry = tk.Entry(window)\n",
    "username_entry.grid(row=0, column=1)\n",
    "\n",
    "# Text label and entry field for password\n",
    "tk.Label(window, text='Enter password:').grid(row=1, column=0)\n",
    "password_entry = tk.Entry(window, show='*')\n",
    "password_entry.grid(row=1, column=1)\n",
    "\n",
    "# Function to play audio file\n",
    "def play_audio_file(audio_file_path):\n",
    "    wave_obj = sa.WaveObject.from_wave_file(audio_file_path)\n",
    "    play_obj = wave_obj.play()\n",
    "    play_obj.wait_done()\n",
    "\n",
    "# Function to validate username and password\n",
    "def validate_login():\n",
    "    name = username_entry.get()\n",
    "    password = password_entry.get()\n",
    "    if name.lower() != 'heisenberg':\n",
    "        play_audio_file(say_my_name_audio_path_wav)\n",
    "        tk.messagebox.showerror('Error', 'Invalid username')\n",
    "    elif password != 'breakingbad':\n",
    "        tk.messagebox.showerror('Error', 'Invalid password')\n",
    "    else:\n",
    "        play_audio_file(you_are_god_damn_right_audio_path_wav)\n",
    "        tk.messagebox.showinfo('Success', 'Login successful')\n",
    "        window.destroy()\n",
    "\n",
    "# Login button\n",
    "login_button = tk.Button(window, text='Login', command=validate_login)\n",
    "login_button.grid(row=2, column=0, columnspan=2)\n",
    "\n",
    "# Run GUI window\n",
    "window.mainloop()"
   ]
  },
  {
   "cell_type": "code",
   "execution_count": null,
   "id": "85141be5",
   "metadata": {},
   "outputs": [],
   "source": []
  }
 ],
 "metadata": {
  "kernelspec": {
   "display_name": "Python 3 (ipykernel)",
   "language": "python",
   "name": "python3"
  },
  "language_info": {
   "codemirror_mode": {
    "name": "ipython",
    "version": 3
   },
   "file_extension": ".py",
   "mimetype": "text/x-python",
   "name": "python",
   "nbconvert_exporter": "python",
   "pygments_lexer": "ipython3",
   "version": "3.10.9"
  }
 },
 "nbformat": 4,
 "nbformat_minor": 5
}
